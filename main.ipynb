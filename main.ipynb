{
 "cells": [
  {
   "cell_type": "code",
   "execution_count": 1,
   "metadata": {},
   "outputs": [
    {
     "name": "stdout",
     "output_type": "stream",
     "text": [
      "hello\n"
     ]
    }
   ],
   "source": [
    "print(\"hello\")"
   ]
  },
  {
   "cell_type": "code",
   "execution_count": 6,
   "metadata": {},
   "outputs": [
    {
     "name": "stdout",
     "output_type": "stream",
     "text": [
      "4\n",
      "8 17 -6\n",
      "2 23 -10\n",
      "3 23 -6\n",
      "12 17 -9\n",
      "xxxxxxxxxxxxxxxxxxxxxxxxxx\n",
      "x    xx               xx x\n",
      "xix       xx    xx     +xx\n",
      "x    x   xxxx   x      +  \n",
      "x x x       x  x       x x\n",
      "xxxx        xx   x  x  x x\n",
      "x  x   x     x x   x     x\n",
      "x         x        x     x\n",
      "x  xx          x +  x  x x\n",
      "xx   xx x     xx        xx\n",
      "xx x       S x     x x i x\n",
      "x x  x   x    x      x   x\n",
      "x  x    xx     x +   x   x\n",
      "xxxxxxxxxxxxxxxxxxxxxxxxxx\n",
      "10 23 2 1\n",
      "\n"
     ]
    }
   ],
   "source": [
    "from source import create_maze_random\n",
    "from importlib import reload\n",
    "reload(create_maze_random)\n",
    "\n",
    "create_maze_random.run(\"maze/maze3.txt\", 10, 15, 20, 30, 2, True)"
   ]
  },
  {
   "cell_type": "code",
   "execution_count": null,
   "metadata": {},
   "outputs": [],
   "source": [
    "from source import read_maze\n",
    "reload(read_maze)\n",
    "\n",
    "data = []\n",
    "data = read_maze.readMaze(\"maze/maze2.txt\")\n",
    "read_maze.printMaze(data[0], data[1], data[2])"
   ]
  },
  {
   "cell_type": "code",
   "execution_count": 8,
   "metadata": {},
   "outputs": [
    {
     "name": "stdout",
     "output_type": "stream",
     "text": [
      "\u001b[0;30;43mx\u001b[0m\u001b[0;30;43mx\u001b[0m\u001b[0;30;43mx\u001b[0m\u001b[0;30;43mx\u001b[0m\u001b[0;30;43mx\u001b[0m\u001b[0;30;43mx\u001b[0m\u001b[0;30;43mx\u001b[0m\u001b[0;30;43mx\u001b[0m\u001b[0;30;43mx\u001b[0m\u001b[0;30;43mx\u001b[0m\u001b[0;30;43mx\u001b[0m\u001b[0;30;43mx\u001b[0m\u001b[0;30;43mx\u001b[0m\u001b[0;30;43mx\u001b[0m\u001b[0;30;43mx\u001b[0m\u001b[0;30;43mx\u001b[0m\u001b[0;30;43mx\u001b[0m\u001b[0;30;43mx\u001b[0m\u001b[0;30;43mx\u001b[0m\u001b[0;30;43mx\u001b[0m\u001b[0;30;43mx\u001b[0m\u001b[0;30;43mx\u001b[0m\u001b[0;30;43mx\u001b[0m\u001b[0;30;43mx\u001b[0m\u001b[0;30;43mx\u001b[0m\u001b[0;30;43mx\u001b[0m\n",
      "\u001b[0;30;43mx\u001b[0m    \u001b[0;30;43mx\u001b[0m\u001b[0;30;43mx\u001b[0m               \u001b[0;30;43mx\u001b[0m\u001b[0;30;43mx\u001b[0m \u001b[0;30;43mx\u001b[0m\n",
      "\u001b[0;30;43mx\u001b[0mi\u001b[0;30;43mx\u001b[0m       \u001b[0;30;43mx\u001b[0m\u001b[0;30;43mx\u001b[0m    \u001b[0;30;43mx\u001b[0m\u001b[0;30;43mx\u001b[0m     \u001b[92m\u001b[1m+\u001b[0m\u001b[0;30;43mx\u001b[0m\u001b[0;30;43mx\u001b[0m\n",
      "\u001b[0;30;43mx\u001b[0m    \u001b[0;30;43mx\u001b[0m   \u001b[0;30;43mx\u001b[0m\u001b[0;30;43mx\u001b[0m\u001b[0;30;43mx\u001b[0m\u001b[0;30;43mx\u001b[0m   \u001b[0;30;43mx\u001b[0m      \u001b[92m\u001b[1m+\u001b[0m  \n",
      "\u001b[0;30;43mx\u001b[0m \u001b[0;30;43mx\u001b[0m \u001b[0;30;43mx\u001b[0m       \u001b[0;30;43mx\u001b[0m  \u001b[0;30;43mx\u001b[0m       \u001b[0;30;43mx\u001b[0m \u001b[0;30;43mx\u001b[0m\n",
      "\u001b[0;30;43mx\u001b[0m\u001b[0;30;43mx\u001b[0m\u001b[0;30;43mx\u001b[0m\u001b[0;30;43mx\u001b[0m        \u001b[0;30;43mx\u001b[0m\u001b[0;30;43mx\u001b[0m   \u001b[0;30;43mx\u001b[0m  \u001b[0;30;43mx\u001b[0m  \u001b[0;30;43mx\u001b[0m \u001b[0;30;43mx\u001b[0m\n",
      "\u001b[0;30;43mx\u001b[0m  \u001b[0;30;43mx\u001b[0m   \u001b[0;30;43mx\u001b[0m     \u001b[0;30;43mx\u001b[0m \u001b[0;30;43mx\u001b[0m   \u001b[0;30;43mx\u001b[0m     \u001b[0;30;43mx\u001b[0m\n",
      "\u001b[0;30;43mx\u001b[0m         \u001b[0;30;43mx\u001b[0m        \u001b[0;30;43mx\u001b[0m     \u001b[0;30;43mx\u001b[0m\n",
      "\u001b[0;30;43mx\u001b[0m  \u001b[0;30;43mx\u001b[0m\u001b[0;30;43mx\u001b[0m          \u001b[0;30;43mx\u001b[0m \u001b[92m\u001b[1m+\u001b[0m  \u001b[0;30;43mx\u001b[0m  \u001b[0;30;43mx\u001b[0m \u001b[0;30;43mx\u001b[0m\n",
      "\u001b[0;30;43mx\u001b[0m\u001b[0;30;43mx\u001b[0m   \u001b[0;30;43mx\u001b[0m\u001b[0;30;43mx\u001b[0m \u001b[0;30;43mx\u001b[0m     \u001b[0;30;43mx\u001b[0m\u001b[0;30;43mx\u001b[0m        \u001b[0;30;43mx\u001b[0m\u001b[0;30;43mx\u001b[0m\n",
      "\u001b[0;30;43mx\u001b[0m\u001b[0;30;43mx\u001b[0m \u001b[0;30;43mx\u001b[0m       \u001b[91m\u001b[1mS\u001b[0m \u001b[0;30;43mx\u001b[0m     \u001b[0;30;43mx\u001b[0m \u001b[0;30;43mx\u001b[0m i \u001b[0;30;43mx\u001b[0m\n",
      "\u001b[0;30;43mx\u001b[0m \u001b[0;30;43mx\u001b[0m  \u001b[0;30;43mx\u001b[0m   \u001b[0;30;43mx\u001b[0m    \u001b[0;30;43mx\u001b[0m      \u001b[0;30;43mx\u001b[0m   \u001b[0;30;43mx\u001b[0m\n",
      "\u001b[0;30;43mx\u001b[0m  \u001b[0;30;43mx\u001b[0m    \u001b[0;30;43mx\u001b[0m\u001b[0;30;43mx\u001b[0m     \u001b[0;30;43mx\u001b[0m \u001b[92m\u001b[1m+\u001b[0m   \u001b[0;30;43mx\u001b[0m   \u001b[0;30;43mx\u001b[0m\n",
      "\u001b[0;30;43mx\u001b[0m\u001b[0;30;43mx\u001b[0m\u001b[0;30;43mx\u001b[0m\u001b[0;30;43mx\u001b[0m\u001b[0;30;43mx\u001b[0m\u001b[0;30;43mx\u001b[0m\u001b[0;30;43mx\u001b[0m\u001b[0;30;43mx\u001b[0m\u001b[0;30;43mx\u001b[0m\u001b[0;30;43mx\u001b[0m\u001b[0;30;43mx\u001b[0m\u001b[0;30;43mx\u001b[0m\u001b[0;30;43mx\u001b[0m\u001b[0;30;43mx\u001b[0m\u001b[0;30;43mx\u001b[0m\u001b[0;30;43mx\u001b[0m\u001b[0;30;43mx\u001b[0m\u001b[0;30;43mx\u001b[0m\u001b[0;30;43mx\u001b[0m\u001b[0;30;43mx\u001b[0m\u001b[0;30;43mx\u001b[0m\u001b[0;30;43mx\u001b[0m\u001b[0;30;43mx\u001b[0m\u001b[0;30;43mx\u001b[0m\u001b[0;30;43mx\u001b[0m\u001b[0;30;43mx\u001b[0m\n",
      "23 10 (22, 10)\n",
      "1 2 (23, 10)\n",
      "1 2 (23, 10)\n",
      "1 2 (23, 10)\n",
      "1 2 (23, 10)\n"
     ]
    }
   ],
   "source": [
    "from source import dfs\n",
    "from source import read_maze\n",
    "from importlib import reload\n",
    "reload(dfs)\n",
    "import os.path\n",
    "\n",
    "f = os.path.dirname(\"main.ipynb\") + 'maze/maze3.txt'\n",
    "\n",
    "data = read_maze.readMaze(str(f))\n",
    "maze, n_rows, n_cols, start, end = data\n",
    "\n",
    "read_maze.printMaze(maze, n_rows, n_cols)\n",
    "dfs.main(maze, n_rows, n_cols, start, end)"
   ]
  }
 ],
 "metadata": {
  "kernelspec": {
   "display_name": "Python 3.10.6 64-bit",
   "language": "python",
   "name": "python3"
  },
  "language_info": {
   "codemirror_mode": {
    "name": "ipython",
    "version": 3
   },
   "file_extension": ".py",
   "mimetype": "text/x-python",
   "name": "python",
   "nbconvert_exporter": "python",
   "pygments_lexer": "ipython3",
   "version": "3.10.6"
  },
  "orig_nbformat": 4,
  "vscode": {
   "interpreter": {
    "hash": "916dbcbb3f70747c44a77c7bcd40155683ae19c65e1c03b4aa3499c5328201f1"
   }
  }
 },
 "nbformat": 4,
 "nbformat_minor": 2
}
